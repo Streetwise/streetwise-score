{
 "cells": [
  {
   "cell_type": "code",
   "execution_count": 12,
   "metadata": {},
   "outputs": [],
   "source": [
    "# Imports\n",
    "import json\n",
    "import numpy as np\n",
    "import math"
   ]
  },
  {
   "cell_type": "code",
   "execution_count": 13,
   "metadata": {},
   "outputs": [],
   "source": [
    "# Define the square in which the analyzed area is included, and the step - size of the rectangles \n",
    "# (e.g., with step = 0.001, a square latitude would be for example [8.4521, 8.4531])\n",
    "'''\n",
    "#Bern\n",
    "start_y = 46.9193\n",
    "end_y = 46.9672\n",
    "start_x = 7.3662\n",
    "end_x = 7.4873\n",
    "step = 0.0005\n",
    "'''\n",
    "'''\n",
    "#Zurich\n",
    "start_y = 47.3179\n",
    "end_y = 47.4265\n",
    "start_x = 8.4521\n",
    "end_x = 8.6126\n",
    "step = 0.001\n",
    "'''\n",
    "#Frauenfeld\n",
    "start_y = 47.5321\n",
    "end_y = 47.5768\n",
    "start_x = 8.8431\n",
    "end_x = 8.9452\n",
    "step = 0.001"
   ]
  },
  {
   "cell_type": "code",
   "execution_count": 14,
   "metadata": {},
   "outputs": [],
   "source": [
    "# Use decimal library to avoid problems with float imprecision in computations\n",
    "import decimal\n",
    "\n",
    "# Drange is doing the same as np.arange, but without float imprecision\n",
    "def drange(x, y, jump):\n",
    "    x = decimal.Decimal(x)\n",
    "    y = decimal.Decimal(y)\n",
    "    while x < y:\n",
    "        yield float(x)\n",
    "        x += decimal.Decimal(jump)"
   ]
  },
  {
   "cell_type": "code",
   "execution_count": 15,
   "metadata": {},
   "outputs": [],
   "source": [
    "# Initialize dictionary with squares tesselating the whole area between the lat and long selected before\n",
    "squares = {}\n",
    "for y in drange(str(start_y), str(end_y), str(step)):\n",
    "    for x in drange(str(start_x), str(end_x), str(step)):\n",
    "        squares[f\"{y};{x}\"] = []"
   ]
  },
  {
   "cell_type": "code",
   "execution_count": 16,
   "metadata": {},
   "outputs": [],
   "source": [
    "# Load file containing points, to be put in the right tesselation\n",
    "with open(\"safety_scores/frauenfeld.json\") as f:\n",
    "    data = json.load(f)"
   ]
  },
  {
   "cell_type": "code",
   "execution_count": 17,
   "metadata": {},
   "outputs": [],
   "source": [
    "# For each square in the tesselation, create a list of all scores of the points in that square\n",
    "for f in data[\"features\"]:\n",
    "    y = np.floor((decimal.Decimal(f'{f[\"geometry\"][\"coordinates\"][1]:.3f}')-decimal.Decimal(str(start_y)))/decimal.Decimal(str(step)))*decimal.Decimal(str(step))+decimal.Decimal(str(start_y))\n",
    "    x = np.floor((decimal.Decimal(f'{f[\"geometry\"][\"coordinates\"][0]:.3f}')-decimal.Decimal(str(start_x)))/decimal.Decimal(str(step)))*decimal.Decimal(str(step))+decimal.Decimal(str(start_x))\n",
    "    if str(y)+\";\"+str(x) in squares:\n",
    "        squares[str(y)+\";\"+str(x)].append(f[\"properties\"][\"score\"])"
   ]
  },
  {
   "cell_type": "code",
   "execution_count": 18,
   "metadata": {},
   "outputs": [],
   "source": [
    "# Create geojson with the tesselation and the score for each square (average of all points contained in it)\n",
    "geojson = {\"type\" : \"FeatureCollection\",\n",
    "          \"features\" : []\n",
    "          }\n",
    "for k,v in squares.items():\n",
    "    t = k.split(\";\")\n",
    "    y, x = float(t[0]), float(t[1])\n",
    "    \n",
    "    if len(v) > 0:\n",
    "        geojson[\"features\"].append({\n",
    "          \"type\": \"Feature\",\n",
    "          \"geometry\": {\n",
    "            \"type\": \"Polygon\",\n",
    "            \"coordinates\": [\n",
    "              [\n",
    "                  [x,y], [x+step, y], [x+step, y+step], [x, y+step]\n",
    "              ]\n",
    "            ]\n",
    "          },\n",
    "          \"properties\": {\n",
    "              \"score\": int(np.mean(v))\n",
    "          }\n",
    "        })"
   ]
  },
  {
   "cell_type": "code",
   "execution_count": 19,
   "metadata": {},
   "outputs": [],
   "source": [
    "# Output to json file\n",
    "with open(\"frauenfeld_tesselated_0.001.json\", 'w') as outfile:\n",
    "    json.dump(geojson, outfile)"
   ]
  },
  {
   "cell_type": "code",
   "execution_count": null,
   "metadata": {},
   "outputs": [],
   "source": []
  }
 ],
 "metadata": {
  "kernelspec": {
   "display_name": "Python 3",
   "language": "python",
   "name": "python3"
  },
  "language_info": {
   "codemirror_mode": {
    "name": "ipython",
    "version": 3
   },
   "file_extension": ".py",
   "mimetype": "text/x-python",
   "name": "python",
   "nbconvert_exporter": "python",
   "pygments_lexer": "ipython3",
   "version": "3.9.0"
  }
 },
 "nbformat": 4,
 "nbformat_minor": 4
}
